{
 "cells": [
  {
   "cell_type": "markdown",
   "metadata": {},
   "source": [
    "# Week 1 lecture notes\n",
    "\n",
    "From Coursera course, Understanding and Visualizing Data.  \n",
    "Patricia Schuster  \n",
    "University of Michigan\n",
    "\n",
    "\n",
    "\n",
    "# Where do data come from?\n",
    "\n",
    "Two key types of data: \n",
    "\n",
    "* organic / process data\n",
    "    * Generated organically, often over time, as the result of a process\n",
    "    * Can result in very large data sets -> \"Big Data\"\n",
    "    * Processing can require significant computational resources. Even just getting the data in a format that can be mined can require lots of resources.\n",
    "    * Ex: Netflix viewing history\n",
    "    * Ex: Weather station data collected over time\n",
    "* \"designed\" data collection\n",
    "    * Individuals sampled from a population\n",
    "    * Trying to learn more about a target population\n",
    "    * Typically smaller data sets\n",
    "    * Data collected for very specific reasons, rather than reflections of ongoing processes\n",
    "    * Ex: Interviewing people on their opinion\n",
    "    \n",
    "In both cases, are the data *i.i.d.*?\n",
    "\n",
    "* *i*: Independent  \n",
    "* *i.d*: Identically distributed  \n",
    "* Given i.i.d data, you can estimate features of the distribution with a certain amount of precision. Example: mean, std, etc. \n",
    "\n",
    "If not i.i.d.?\n",
    "\n",
    "* Ex: If students are cheating, students sitting next to each other have similar scores. \n",
    "* Variability between data, not identically distributed. \n",
    "* Need different analytic procedures. Need to account for dependencies and differences.\n",
    "\n",
    "Always ask where the data came from! Always ask when you can assume data is i.i.d. "
   ]
  },
  {
   "cell_type": "markdown",
   "metadata": {},
   "source": [
    "# Variable types"
   ]
  },
  {
   "cell_type": "markdown",
   "metadata": {},
   "source": [
    "This table has lots of different data in it.\n",
    "\n",
    "![image](fig/nhanes_head.PNG)"
   ]
  },
  {
   "cell_type": "markdown",
   "metadata": {},
   "source": [
    "Quantitative variables\n",
    "\n",
    "* Numerical, measurable quantities in which arithmetic operations often make sense\n",
    "* *Continuous*: Could take any value within an interval, many possible values\n",
    "* *Discrete*: Countable value, finite number of values\n",
    "\n",
    "Categorical (or qualitative) variable\n",
    "\n",
    "* Classifies individuals or items into different groups\n",
    "* *Ordinal*: groups have an order or ranking, such as freshman\n",
    "* *Nominal*: Groups are merely names, no ranking, such as marital status\n",
    "\n",
    "Considering the data in this table:\n",
    "\n",
    "* BMI is numerical, continuous\n",
    "* Race is categorical, coded so that each integer represents a category\n",
    "* Age is numerical, discrete? Even though it is reported as just an integer, time is often considered continuous. \n",
    "* Adult is 0 or 1, it is categorical nominal."
   ]
  },
  {
   "cell_type": "markdown",
   "metadata": {},
   "source": [
    "# Study Design\n",
    "\n",
    "* Exploratory vs. Confirmatory\n",
    "    * Confirmatory: Scientific method, specify a fasifiable hypothesis and then test it. Collect data to address a single pre-specified question.\n",
    "    * Exploratory: Collect and analyze data without first pre-specifying a question. Watch out for overfitting, multiple testing, p-hacking. \n",
    "    * The more questions you ask from a dataset, the more likely you are to draw a misleading conclusion.\n",
    "* Comparative vs. non-comparative\n",
    "    * Comparative: Contrast one population to another\n",
    "    * Non-comparative: Estimating or predicting quantitative values. Ex: Predict stock performance\n",
    "* Observational data and experiments\n",
    "    * Observational: arises \"naturally\"\n",
    "    * Experimental: involves manipulation or assignment\n",
    "* Power and bias\n",
    "    * Power analysis: Process to assess whether a given study design is likely to yield meaningful findings\n",
    "    * Bias: Measurements that are systematically off-target, or sample is not representative of population of interest. *Observational studies are especially vulnerable to bias*"
   ]
  },
  {
   "cell_type": "markdown",
   "metadata": {},
   "source": [
    "# Data types in python"
   ]
  },
  {
   "cell_type": "markdown",
   "metadata": {},
   "source": [
    "Discrete data $\\rightarrow$ Integers  \n",
    "Continuous data $\\rightarrow$ Floats  \n",
    "\n",
    "I'm skipping most of this because I am familiar with it already."
   ]
  },
  {
   "cell_type": "code",
   "execution_count": null,
   "metadata": {},
   "outputs": [],
   "source": []
  },
  {
   "cell_type": "code",
   "execution_count": null,
   "metadata": {},
   "outputs": [],
   "source": []
  }
 ],
 "metadata": {
  "kernelspec": {
   "display_name": "Python 3",
   "language": "python",
   "name": "python3"
  },
  "language_info": {
   "codemirror_mode": {
    "name": "ipython",
    "version": 3
   },
   "file_extension": ".py",
   "mimetype": "text/x-python",
   "name": "python",
   "nbconvert_exporter": "python",
   "pygments_lexer": "ipython3",
   "version": "3.7.1"
  }
 },
 "nbformat": 4,
 "nbformat_minor": 2
}
